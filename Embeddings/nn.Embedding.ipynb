{
  "nbformat": 4,
  "nbformat_minor": 0,
  "metadata": {
    "colab": {
      "provenance": []
    },
    "kernelspec": {
      "name": "python3",
      "display_name": "Python 3"
    },
    "language_info": {
      "name": "python"
    }
  },
  "cells": [
    {
      "cell_type": "code",
      "source": [
        "import torch"
      ],
      "metadata": {
        "id": "py9H8xTCSzYw"
      },
      "execution_count": 22,
      "outputs": []
    },
    {
      "cell_type": "code",
      "source": [
        "id2word = {\n",
        "    0: \"hello\",\n",
        "    1: \"world\",\n",
        "    2: \"cat\",\n",
        "    3: \"dog\",\n",
        "    4: \"apple\"\n",
        "}\n",
        "word2id = {v:k for k,v in id2word.items()}\n",
        "input_ids = torch.tensor([i for i in range(0,5)])"
      ],
      "metadata": {
        "id": "522MlUW8e5hz"
      },
      "execution_count": 41,
      "outputs": []
    },
    {
      "cell_type": "code",
      "source": [
        "#vector dim = 3\n",
        "\n",
        "embedding_layer = torch.nn.Embedding(num_embeddings=len(input_ids),embedding_dim=4)\n"
      ],
      "metadata": {
        "id": "eUWr_mjkfQWF"
      },
      "execution_count": 33,
      "outputs": []
    },
    {
      "cell_type": "code",
      "source": [
        "embedding_layer.weight"
      ],
      "metadata": {
        "id": "2uwTpXHTfRNY",
        "outputId": "20d17b4f-3215-4e76-94b7-216fffff8272",
        "colab": {
          "base_uri": "https://localhost:8080/"
        }
      },
      "execution_count": 37,
      "outputs": [
        {
          "output_type": "execute_result",
          "data": {
            "text/plain": [
              "Parameter containing:\n",
              "tensor([[ 0.4079,  0.6511, -0.2084,  2.1414],\n",
              "        [ 0.2596, -0.6017, -1.7448, -0.5529],\n",
              "        [-1.2867,  1.1880,  1.4548,  0.1485],\n",
              "        [ 0.0150,  0.1874, -1.5304, -1.4819],\n",
              "        [ 0.6921,  0.3553,  1.8823,  1.0843]], requires_grad=True)"
            ]
          },
          "metadata": {},
          "execution_count": 37
        }
      ]
    },
    {
      "cell_type": "code",
      "source": [
        "embedding_layer(torch.tensor(word2id[\"apple\"]))"
      ],
      "metadata": {
        "id": "WGRGWfCLgBQ1",
        "outputId": "f3275109-7c54-4222-ef66-7a3ced32f657",
        "colab": {
          "base_uri": "https://localhost:8080/"
        }
      },
      "execution_count": 42,
      "outputs": [
        {
          "output_type": "execute_result",
          "data": {
            "text/plain": [
              "tensor([0.6921, 0.3553, 1.8823, 1.0843], grad_fn=<EmbeddingBackward0>)"
            ]
          },
          "metadata": {},
          "execution_count": 42
        }
      ]
    },
    {
      "cell_type": "code",
      "source": [
        "embedding_layer(torch.tensor([word2id[\"apple\"],word2id[\"dog\"]]))"
      ],
      "metadata": {
        "id": "MIA3OidogihQ",
        "outputId": "c31edaad-4ef5-4909-b464-baee7254c715",
        "colab": {
          "base_uri": "https://localhost:8080/"
        }
      },
      "execution_count": 43,
      "outputs": [
        {
          "output_type": "execute_result",
          "data": {
            "text/plain": [
              "tensor([[ 0.6921,  0.3553,  1.8823,  1.0843],\n",
              "        [ 0.0150,  0.1874, -1.5304, -1.4819]], grad_fn=<EmbeddingBackward0>)"
            ]
          },
          "metadata": {},
          "execution_count": 43
        }
      ]
    },
    {
      "cell_type": "code",
      "source": [],
      "metadata": {
        "id": "vmtSwrIPgt1X"
      },
      "execution_count": null,
      "outputs": []
    }
  ]
}
