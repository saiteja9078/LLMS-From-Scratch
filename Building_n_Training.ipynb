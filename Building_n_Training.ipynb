{
  "cells": [
    {
      "cell_type": "code",
      "execution_count": 4,
      "metadata": {
        "id": "b4uEr7xAKr2Z"
      },
      "outputs": [],
      "source": [
        "import torch.nn as nn\n",
        "import torch\n",
        "class MultiHeadAttention(nn.Module):\n",
        "    def __init__(self, d_in, d_out, context_length, dropout, num_heads, qkv_bias=False):\n",
        "      super().__init__()\n",
        "      assert (d_out % num_heads == 0), \\\n",
        "          \"d_out must be divisible by num_heads\"\n",
        "      self.d_out = d_out\n",
        "      self.num_heads = num_heads\n",
        "      self.head_dim = d_out // num_heads # Reduce the projection dim to match desired output dim\n",
        "      self.W_query = nn.Linear(d_in, d_out, bias=qkv_bias)\n",
        "      self.W_key = nn.Linear(d_in, d_out, bias=qkv_bias)\n",
        "      self.W_value = nn.Linear(d_in, d_out, bias=qkv_bias)\n",
        "      self.out_proj = nn.Linear(d_out,d_out)\n",
        "      self.dropout = nn.Dropout(dropout)\n",
        "      self.register_buffer(\n",
        "          \"mask\",\n",
        "          torch.triu(torch.ones(context_length,context_length),diagonal=1)\n",
        "      )\n",
        "    def forward(self,x):\n",
        "      b , num_tokens, d_in = x.shape\n",
        "      print(x.shape)\n",
        "      queries = self.W_query(x).view(b,num_tokens,self.num_heads,self.head_dim)\n",
        "      keys = self.W_key(x).view(b,num_tokens,self.num_heads,self.head_dim)\n",
        "      values = self.W_value(x).view(b,num_tokens,self.num_heads,self.head_dim)\n",
        "      # Transpose: (b, num_tokens, num_heads, head_dim) -> (b, num_heads, num_tokens, head_dim)\n",
        "      keys = keys.transpose(1,2)\n",
        "      values = values.transpose(1,2)\n",
        "      queries = queries.transpose(1,2)\n",
        "\n",
        "\n",
        "      attention_scores = queries @ keys.transpose(-1,-2)\n",
        "      # Original mask truncated to the number of tokens and converted to boolean\n",
        "      mask_bool = self.mask.bool()[:num_tokens, :num_tokens]\n",
        "\n",
        "        # Use the mask to fill attention scores\n",
        "      attention_scores.masked_fill_(mask_bool, -torch.inf)\n",
        "      attn_weights = torch.softmax(attention_scores / keys.shape[-1]**0.5, dim=-1)\n",
        "\n",
        "      attn_weights = self.dropout(attn_weights)\n",
        "\n",
        "      # Shape: (b, num_tokens, num_heads, head_dim)\n",
        "      context_vec = (attn_weights @ values).transpose(1, 2)\n",
        "\n",
        "      # Combine heads, where self.d_out = self.num_heads * self.head_dim\n",
        "      context_vec = context_vec.contiguous().view(b, num_tokens, self.d_out)\n",
        "      context_vec = self.out_proj(context_vec) # optional projection\n",
        "\n",
        "      return context_vec\n"
      ]
    },
    {
      "cell_type": "code",
      "execution_count": 5,
      "metadata": {
        "id": "gWXX25LoOxaI"
      },
      "outputs": [],
      "source": [
        "d_in,d_out =6,6\n",
        "attention = MultiHeadAttention(d_in,d_out,6,0.25,2)"
      ]
    },
    {
      "cell_type": "code",
      "execution_count": 6,
      "metadata": {
        "id": "d12eODP6k221"
      },
      "outputs": [],
      "source": [
        "\n",
        "class DummyGPTModel(nn.Module):\n",
        "  def __init__(self,cfg):\n",
        "    super().__init__()\n",
        "    self.token_emb = nn.Embedding(cfg[\"vocab_size\"],cfg[\"emb_dim\"])\n",
        "    self.pos_emb = nn.Embedding(cfg[\"context_length\"],cfg[\"emb_dim\"])\n",
        "    self.drop_emb = nn.Dropout(cfg[\"drop_rate\"])\n",
        "    self.trans_blocks = nn.Sequential(\n",
        "        *[DummyTransformerBlock(cfg) for _ in range(cfg[\"n_layers\"])]\n",
        "    )\n",
        "    self.final_norm = DummyLayerNorm(cfg[\"emb_dim\"])\n",
        "    self.out_head = nn.Linear(\n",
        "            cfg[\"emb_dim\"], cfg[\"vocab_size\"], bias=False\n",
        "        )\n",
        "  def forward(self,in_idx):\n",
        "      batch_size , seq_len = in_idx.shape\n",
        "      token_emb = self.token_emb(in_idx)\n",
        "      pos_emb = self.pos_emb(torch.arange(seq_len,device=in_idx.device))\n",
        "      x = token_emb + pos_emb\n",
        "      x = self.drop_emb(x)\n",
        "      x = self.trans_blocks(x)\n",
        "      x = self.final_norm(x)\n",
        "      logits = self.out_head(x)\n",
        "      return logits\n",
        "class DummyTransformerBlock(nn.Module):\n",
        "    def __init__(self, cfg):\n",
        "        super().__init__()\n",
        "        # A simple placeholder\n",
        "\n",
        "    def forward(self, x):\n",
        "        # This block does nothing and just returns its input.\n",
        "        return x\n",
        "\n",
        "\n",
        "class DummyLayerNorm(nn.Module):\n",
        "    def __init__(self, normalized_shape, eps=1e-5):\n",
        "        super().__init__()\n",
        "        # The parameters here are just to mimic the LayerNorm interface.\n",
        "\n",
        "    def forward(self, x):\n",
        "        # This layer does nothing and just returns its input.\n",
        "        return x"
      ]
    },
    {
      "cell_type": "code",
      "execution_count": 7,
      "metadata": {
        "id": "mQd3tCcDnJav"
      },
      "outputs": [
        {
          "name": "stdout",
          "output_type": "stream",
          "text": [
            "tensor([[6109, 3626, 6100,  345],\n",
            "        [6109, 1110, 6622,  257]])\n"
          ]
        }
      ],
      "source": [
        "import tiktoken\n",
        "tokenizer = tiktoken.get_encoding(\"gpt2\")\n",
        "batch = []\n",
        "txt1 = \"Every effort moves you\"\n",
        "txt2 = \"Every day holds a\"\n",
        "batch.append(torch.tensor(tokenizer.encode(txt1)))\n",
        "batch.append(torch.tensor(tokenizer.encode(txt2)))\n",
        "batch = torch.stack(batch, dim=0)\n",
        "print(batch)"
      ]
    },
    {
      "cell_type": "code",
      "execution_count": 8,
      "metadata": {},
      "outputs": [
        {
          "name": "stdout",
          "output_type": "stream",
          "text": [
            "Output shape: torch.Size([2, 4, 50257])\n",
            "tensor([[[-1.2034,  0.3201, -0.7130,  ..., -1.5548, -0.2390, -0.4667],\n",
            "         [-0.1192,  0.4539, -0.4432,  ...,  0.2392,  1.3469,  1.2430],\n",
            "         [ 0.5307,  1.6720, -0.4695,  ...,  1.1966,  0.0111,  0.5835],\n",
            "         [ 0.0139,  1.6754, -0.3388,  ...,  1.1586, -0.0435, -1.0400]],\n",
            "\n",
            "        [[-1.0908,  0.1798, -0.9484,  ..., -1.6047,  0.2439, -0.4530],\n",
            "         [-0.7860,  0.5581, -0.0610,  ...,  0.4835, -0.0077,  1.6621],\n",
            "         [ 0.3567,  1.2698, -0.6398,  ..., -0.0162, -0.1296,  0.3717],\n",
            "         [-0.2407, -0.7349, -0.5102,  ...,  2.0057, -0.3694,  0.1814]]],\n",
            "       grad_fn=<UnsafeViewBackward0>)\n"
          ]
        }
      ],
      "source": [
        "GPT_CONFIG_124M = {\n",
        "    \"vocab_size\": 50257,    # Vocabulary size\n",
        "    \"context_length\": 1024, # Context length\n",
        "    \"emb_dim\": 768,         # Embedding dimension\n",
        "    \"n_heads\": 12,          # Number of attention heads\n",
        "    \"n_layers\": 12,         # Number of layers\n",
        "    \"drop_rate\": 0.1,       # Dropout rate\n",
        "    \"qkv_bias\": False       # Query-Key-Value bias\n",
        "}\n",
        "torch.manual_seed(123)\n",
        "model = DummyGPTModel(GPT_CONFIG_124M)\n",
        "logits = model(batch)\n",
        "print(\"Output shape:\", logits.shape)\n",
        "print(logits)"
      ]
    },
    {
      "cell_type": "markdown",
      "metadata": {},
      "source": [
        "**Layer Norm**"
      ]
    },
    {
      "cell_type": "code",
      "execution_count": 9,
      "metadata": {},
      "outputs": [
        {
          "data": {
            "text/plain": [
              "tensor([[0.2260, 0.3470, 0.0000, 0.2216, 0.0000, 0.0000],\n",
              "        [0.2133, 0.2394, 0.0000, 0.5198, 0.3297, 0.0000]],\n",
              "       grad_fn=<ReluBackward0>)"
            ]
          },
          "execution_count": 9,
          "metadata": {},
          "output_type": "execute_result"
        }
      ],
      "source": [
        "torch.manual_seed(123)\n",
        "inputs = torch.randn(2,5)\n",
        "layers = nn.Sequential(nn.Linear(5,6),nn.ReLU())\n",
        "outputs = layers(inputs)\n",
        "outputs"
      ]
    },
    {
      "cell_type": "code",
      "execution_count": 10,
      "metadata": {},
      "outputs": [],
      "source": [
        "mean  = outputs.mean(dim=-1,keepdim=True)\n",
        "var = outputs.var(dim=-1,keepdim=True)"
      ]
    },
    {
      "cell_type": "code",
      "execution_count": 11,
      "metadata": {},
      "outputs": [
        {
          "data": {
            "text/plain": [
              "tensor([[1.0000],\n",
              "        [1.0000]], grad_fn=<VarBackward0>)"
            ]
          },
          "execution_count": 11,
          "metadata": {},
          "output_type": "execute_result"
        }
      ],
      "source": [
        "out_norm  = (outputs - mean)/torch.sqrt(var)\n",
        "mean  = out_norm.mean(dim=-1,keepdim=True)\n",
        "var = out_norm.var(dim=-1,keepdim=True)\n",
        "var"
      ]
    },
    {
      "cell_type": "code",
      "execution_count": 12,
      "metadata": {},
      "outputs": [],
      "source": [
        "class LayerNorm(nn.Module):\n",
        "    def __init__(self, emb_dim):\n",
        "        super().__init__()\n",
        "        self.scale = nn.Parameter(torch.ones(emb_dim))\n",
        "        self.shift = nn.Parameter(torch.zeros(emb_dim))\n",
        "        self.eps = 1e-5\n",
        "    def forward(self,x):\n",
        "        means = x.mean(dim=-1,keepdim=True)\n",
        "        vars = x.var(dim=-1,keepdim=True)\n",
        "        norm_vals = (x - means)/torch.sqrt(vars+self.eps)\n",
        "        return self.scale*norm_vals + self.shift*norm_vals"
      ]
    },
    {
      "cell_type": "code",
      "execution_count": 13,
      "metadata": {},
      "outputs": [
        {
          "data": {
            "text/plain": [
              "tensor([[[ 0.2282, -1.3700, -0.3207,  0.0610,  1.4016],\n",
              "         [-0.8846,  0.3039,  0.2648,  1.3837, -1.0678],\n",
              "         [ 0.9278,  0.3431,  0.3016, -1.7066,  0.1341],\n",
              "         [ 0.2733,  1.2591,  0.4963, -1.1476, -0.8812],\n",
              "         [-0.1139, -0.4737,  0.0476,  1.6144, -1.0743]],\n",
              "\n",
              "        [[-0.3018, -1.2715,  0.1537,  1.5038, -0.0842],\n",
              "         [ 0.6037, -1.0267,  1.1283,  0.3752, -1.0805],\n",
              "         [-1.2706,  1.2019, -0.4173, -0.3266,  0.8126],\n",
              "         [-0.8886, -0.3835,  0.8068, -0.8407,  1.3060],\n",
              "         [-0.0051, -1.1286,  0.0712,  1.5697, -0.5071]]],\n",
              "       grad_fn=<AddBackward0>)"
            ]
          },
          "execution_count": 13,
          "metadata": {},
          "output_type": "execute_result"
        }
      ],
      "source": [
        "norm = LayerNorm(emb_dim=5)\n",
        "inputs = torch.randn(2,5,5)\n",
        "norm.forward(inputs)"
      ]
    },
    {
      "cell_type": "markdown",
      "metadata": {},
      "source": [
        "***Feed Forward Layer***"
      ]
    },
    {
      "cell_type": "code",
      "execution_count": 14,
      "metadata": {},
      "outputs": [],
      "source": [
        "GPT_CONFIG_124M = {\n",
        "    \"vocab_size\": 50257,    # Vocabulary size\n",
        "    \"context_length\": 1024, # Context length\n",
        "    \"emb_dim\": 768,         # Embedding dimension\n",
        "    \"n_heads\": 12,          # Number of attention heads\n",
        "    \"n_layers\": 12,         # Number of layers\n",
        "    \"drop_rate\": 0.1,       # Dropout rate\n",
        "    \"qkv_bias\": False       # Query-Key-Value bias\n",
        "}\n",
        "class FeedForward(nn.Module):\n",
        "    def __init__(self,cfg):\n",
        "        super().__init__()\n",
        "        self.feed_forward = nn.Sequential(nn.Linear(cfg[\"emb_dim\"],cfg[\"emb_dim\"]*4),nn.GELU(),nn.Linear(cfg[\"emb_dim\"]*4,cfg[\"emb_dim\"]))\n",
        "    def forward(self,x):\n",
        "        return self.feed_forward(x)"
      ]
    },
    {
      "cell_type": "code",
      "execution_count": 15,
      "metadata": {},
      "outputs": [
        {
          "data": {
            "text/plain": [
              "torch.Size([2, 3, 768])"
            ]
          },
          "execution_count": 15,
          "metadata": {},
          "output_type": "execute_result"
        }
      ],
      "source": [
        "feed = FeedForward(cfg=GPT_CONFIG_124M)\n",
        "feed(torch.randn(2,3,768)).shape"
      ]
    },
    {
      "cell_type": "markdown",
      "metadata": {},
      "source": [
        "**Skip/Shortcut Connections**"
      ]
    },
    {
      "cell_type": "code",
      "execution_count": 16,
      "metadata": {},
      "outputs": [],
      "source": [
        "class ExDeepNeuralNet(nn.Module):\n",
        "    def __init__(self, sizes,skip):\n",
        "        super().__init__()\n",
        "        self.skip = skip\n",
        "        self.layers = nn.ModuleList([\n",
        "            nn.Sequential(nn.Linear(sizes[0],sizes[1]),nn.GELU()),\n",
        "nn.Sequential(nn.Linear(sizes[1],sizes[2]),nn.GELU()),\n",
        "nn.Sequential(nn.Linear(sizes[2],sizes[3]),nn.GELU()),\n",
        "nn.Sequential(nn.Linear(sizes[3],sizes[4]),nn.GELU()),\n",
        "nn.Sequential(nn.Linear(sizes[4],sizes[5]),nn.GELU()),\n",
        "        ])\n",
        "    def forward(self,x):\n",
        "        for layer in self.layers:\n",
        "            outputs=layer(x)\n",
        "            if self.skip and x.shape == outputs.shape:\n",
        "                x = x + outputs\n",
        "            else:\n",
        "                x = outputs\n",
        "        return x\n"
      ]
    },
    {
      "cell_type": "code",
      "execution_count": 17,
      "metadata": {},
      "outputs": [],
      "source": [
        "sizes = [3,3,3,3,3,1]\n",
        "sample_in = torch.tensor([1.,0.,-1.])\n",
        "torch.manual_seed(123)\n",
        "net_without_shortcut = ExDeepNeuralNet(\n",
        "    sizes=sizes,skip=False\n",
        ")"
      ]
    },
    {
      "cell_type": "code",
      "execution_count": 18,
      "metadata": {},
      "outputs": [],
      "source": [
        "def print_grad(model,x):\n",
        "    outputs = model(x)\n",
        "    truth = torch.tensor([0.])\n",
        "\n",
        "    loss = nn.MSELoss()\n",
        "    loss = loss(outputs,truth)\n",
        "\n",
        "    loss.backward()\n",
        "\n",
        "    for name,param in model.named_parameters():\n",
        "        if 'weight' in name:\n",
        "            print(f\"{name} has gradient mean of {param.grad.abs().mean().item()}\")"
      ]
    },
    {
      "cell_type": "code",
      "execution_count": 19,
      "metadata": {},
      "outputs": [
        {
          "name": "stdout",
          "output_type": "stream",
          "text": [
            "layers.0.0.weight has gradient mean of 0.00020174124801997095\n",
            "layers.1.0.weight has gradient mean of 0.00012011774379061535\n",
            "layers.2.0.weight has gradient mean of 0.0007152438047342002\n",
            "layers.3.0.weight has gradient mean of 0.0013988513965159655\n",
            "layers.4.0.weight has gradient mean of 0.005049603525549173\n"
          ]
        }
      ],
      "source": [
        "print_grad(net_without_shortcut,sample_in)"
      ]
    },
    {
      "cell_type": "code",
      "execution_count": 20,
      "metadata": {},
      "outputs": [
        {
          "name": "stdout",
          "output_type": "stream",
          "text": [
            "layers.0.0.weight has gradient mean of 0.0014336216263473034\n",
            "layers.1.0.weight has gradient mean of 0.0048200166784226894\n",
            "layers.2.0.weight has gradient mean of 0.004116077441722155\n",
            "layers.3.0.weight has gradient mean of 0.005884398240596056\n",
            "layers.4.0.weight has gradient mean of 0.032491881400346756\n"
          ]
        }
      ],
      "source": [
        "net_with_shortcut = ExDeepNeuralNet(\n",
        "    sizes=sizes,skip=True\n",
        ")\n",
        "print_grad(net_with_shortcut,sample_in)"
      ]
    },
    {
      "cell_type": "code",
      "execution_count": 21,
      "metadata": {},
      "outputs": [],
      "source": [
        "GPT_CONFIG_124M = {\n",
        "    \"vocab_size\": 50257,    # Vocabulary size\n",
        "    \"context_length\": 1024, # Context length\n",
        "    \"emb_dim\": 768,         # Embedding dimension\n",
        "    \"n_heads\": 12,          # Number of attention heads\n",
        "    \"n_layers\": 12,         # Number of layers\n",
        "    \"drop_rate\": 0.1,       # Dropout rate\n",
        "    \"qkv_bias\": False       # Query-Key-Value bias\n",
        "}\n",
        "class LayerNorm(nn.Module):\n",
        "    def __init__(self, emb_dim):\n",
        "        super().__init__()\n",
        "        self.scale = nn.Parameter(torch.ones(emb_dim))\n",
        "        self.shift = nn.Parameter(torch.zeros(emb_dim))\n",
        "        self.eps = 1e-5\n",
        "    def forward(self,x):\n",
        "        means = x.mean(dim=-1,keepdim=True)\n",
        "        vars = x.var(dim=-1,keepdim=True)\n",
        "        norm_vals = (x - means)/torch.sqrt(vars+self.eps)\n",
        "        return self.scale*norm_vals + self.shift*norm_vals\n",
        "class FeedForward(nn.Module):\n",
        "    def __init__(self,cfg):\n",
        "        super().__init__()\n",
        "        self.feed_forward = nn.Sequential(nn.Linear(cfg[\"emb_dim\"],cfg[\"emb_dim\"]*4),nn.GELU(),nn.Linear(cfg[\"emb_dim\"]*4,cfg[\"emb_dim\"]))\n",
        "    def forward(self,x):\n",
        "        return self.feed_forward(x)\n",
        "class MultiHeadAttention(nn.Module):\n",
        "    def __init__(self, d_in, d_out, context_length, dropout, num_heads, qkv_bias=False):\n",
        "      super().__init__()\n",
        "      assert (d_out % num_heads == 0), \\\n",
        "          \"d_out must be divisible by num_heads\"\n",
        "      self.d_out = d_out\n",
        "      self.num_heads = num_heads\n",
        "      self.head_dim = d_out // num_heads # Reduce the projection dim to match desired output dim\n",
        "      self.W_query = nn.Linear(d_in, d_out, bias=qkv_bias)\n",
        "      self.W_key = nn.Linear(d_in, d_out, bias=qkv_bias)\n",
        "      self.W_value = nn.Linear(d_in, d_out, bias=qkv_bias)\n",
        "      self.out_proj = nn.Linear(d_out,d_out)\n",
        "      self.dropout = nn.Dropout(dropout)\n",
        "      self.register_buffer(\n",
        "          \"mask\",\n",
        "          torch.triu(torch.ones(context_length,context_length),diagonal=1)\n",
        "      )\n",
        "    def forward(self,x):\n",
        "      b , num_tokens, d_in = x.shape\n",
        "\n",
        "      queries = self.W_query(x).view(b,num_tokens,self.num_heads,self.head_dim)\n",
        "      keys = self.W_key(x).view(b,num_tokens,self.num_heads,self.head_dim)\n",
        "      values = self.W_value(x).view(b,num_tokens,self.num_heads,self.head_dim)\n",
        "      # Transpose: (b, num_tokens, num_heads, head_dim) -> (b, num_heads, num_tokens, head_dim)\n",
        "      keys = keys.transpose(1,2)\n",
        "      values = values.transpose(1,2)\n",
        "      queries = queries.transpose(1,2)\n",
        "\n",
        "\n",
        "      attention_scores = queries @ keys.transpose(-1,-2)\n",
        "      # Original mask truncated to the number of tokens and converted to boolean\n",
        "      mask_bool = self.mask.bool()[:num_tokens, :num_tokens]\n",
        "\n",
        "        # Use the mask to fill attention scores\n",
        "      attention_scores.masked_fill_(mask_bool, -torch.inf)\n",
        "      attn_weights = torch.softmax(attention_scores / keys.shape[-1]**0.5, dim=-1)\n",
        "\n",
        "      attn_weights = self.dropout(attn_weights)\n",
        "\n",
        "      # Shape: (b, num_tokens, num_heads, head_dim)\n",
        "      context_vec = (attn_weights @ values).transpose(1, 2)\n",
        "\n",
        "      # Combine heads, where self.d_out = self.num_heads * self.head_dim\n",
        "      context_vec = context_vec.contiguous().view(b, num_tokens, self.d_out)\n",
        "      context_vec = self.out_proj(context_vec) # optional projection\n",
        "\n",
        "      return context_vec\n"
      ]
    },
    {
      "cell_type": "code",
      "execution_count": 22,
      "metadata": {},
      "outputs": [],
      "source": [
        "class Transformer(nn.Module):\n",
        "    def __init__(self, cfg):\n",
        "        super().__init__()\n",
        "        self.ff = FeedForward(cfg=cfg)\n",
        "        self.norm1 = LayerNorm(emb_dim=cfg[\"emb_dim\"])\n",
        "        self.norm2 = LayerNorm(emb_dim=cfg[\"emb_dim\"])\n",
        "        self.drop = nn.Dropout(cfg[\"drop_rate\"])\n",
        "        self.att = MultiHeadAttention(\n",
        "            d_in=cfg[\"emb_dim\"],\n",
        "            d_out=cfg[\"emb_dim\"],\n",
        "            context_length=cfg[\"context_length\"],\n",
        "            num_heads=cfg[\"n_heads\"], \n",
        "            dropout=cfg[\"drop_rate\"],\n",
        "            qkv_bias=cfg[\"qkv_bias\"])\n",
        "    def forward(self,x):\n",
        "        #shortcut for attenttoin block\n",
        "        shortcut = x\n",
        "        x = self.norm1(x)\n",
        "        x = self.att(x)\n",
        "        x = self.drop(x)\n",
        "        x = x + shortcut\n",
        "\n",
        "        shortcut = x\n",
        "        x = self.norm2(x)\n",
        "        x = self.ff(x)\n",
        "        x = self.drop(x)\n",
        "        x = x + shortcut\n",
        "        return x\n"
      ]
    },
    {
      "cell_type": "code",
      "execution_count": 23,
      "metadata": {},
      "outputs": [
        {
          "data": {
            "text/plain": [
              "tensor([[[ 0.3040,  0.5495,  1.2885,  ..., -1.8107,  2.3743, -0.8244],\n",
              "         [-1.8463, -0.1477, -1.0222,  ..., -0.3995,  0.9893,  1.4344],\n",
              "         [-0.8399,  0.0234, -0.2272,  ..., -0.7366, -0.1974,  1.0353],\n",
              "         ...,\n",
              "         [ 0.5701, -0.1126,  0.9068,  ...,  0.5838,  0.0046, -1.4481],\n",
              "         [ 0.9650, -0.3691,  0.7122,  ..., -0.6536, -0.0895, -0.1681],\n",
              "         [ 0.1567, -0.4485,  0.9260,  ...,  0.4075, -0.8095,  1.7327]],\n",
              "\n",
              "        [[-0.5228, -1.1788, -0.1235,  ...,  0.5532,  0.0343, -0.2192],\n",
              "         [-1.2015,  2.1145,  1.8952,  ...,  0.0552,  0.8150,  0.9406],\n",
              "         [ 0.4222,  1.6837,  0.1903,  ...,  0.4998,  0.4750, -0.4381],\n",
              "         ...,\n",
              "         [ 0.8550, -0.5851, -0.4771,  ...,  0.9347, -0.8972,  0.1981],\n",
              "         [-0.8054,  2.1730, -2.7927,  ...,  1.1397,  1.0180,  0.6697],\n",
              "         [-2.1625,  0.7646, -0.0386,  ..., -1.1390,  0.2489,  0.2810]],\n",
              "\n",
              "        [[-0.2117, -0.8995,  0.6468,  ...,  1.3401, -1.7545, -1.9538],\n",
              "         [ 1.0441,  0.8597,  0.1974,  ...,  0.0942, -1.0055, -2.2128],\n",
              "         [ 2.3095, -0.3910, -1.3839,  ...,  0.4606, -0.9747, -1.4518],\n",
              "         ...,\n",
              "         [ 0.0210, -0.0710, -0.5398,  ...,  1.0735,  0.8987,  0.1692],\n",
              "         [-1.4210, -0.9596, -1.3189,  ...,  1.8974, -0.0426,  0.9970],\n",
              "         [ 1.0072, -0.7078,  0.2692,  ..., -1.4618,  0.9208,  1.0304]]],\n",
              "       grad_fn=<AddBackward0>)"
            ]
          },
          "execution_count": 23,
          "metadata": {},
          "output_type": "execute_result"
        }
      ],
      "source": [
        "transformer = Transformer(GPT_CONFIG_124M)\n",
        "\n",
        "transformer(torch.randn(3,1024,768))"
      ]
    },
    {
      "cell_type": "code",
      "execution_count": 24,
      "metadata": {},
      "outputs": [],
      "source": [
        "GPT_CONFIG_124M = {\n",
        "    \"vocab_size\": 50257,    # Vocabulary size\n",
        "    \"context_length\": 1024, # Context length\n",
        "    \"emb_dim\": 768,         # Embedding dimension\n",
        "    \"n_heads\": 12,          # Number of attention heads\n",
        "    \"n_layers\": 12,         # Number of layers\n",
        "    \"drop_rate\": 0.1,       # Dropout rate\n",
        "    \"qkv_bias\": False       # Query-Key-Value bias\n",
        "}\n",
        "class GPT2(nn.Module):\n",
        "    def __init__(self,cfg):\n",
        "        super().__init__()\n",
        "        self.token_emb = nn.Embedding(cfg[\"vocab_size\"],cfg[\"emb_dim\"])\n",
        "        self.pos_emb = nn.Embedding(cfg[\"context_length\"],cfg[\"emb_dim\"])\n",
        "\n",
        "        self.drop = nn.Dropout(cfg[\"drop_rate\"])\n",
        "        self.transformers = nn.ModuleList(Transformer(cfg=cfg) for _ in range(cfg[\"n_layers\"]))\n",
        "        self.norm = LayerNorm(cfg[\"emb_dim\"])\n",
        "        self.out = nn.Linear(cfg[\"emb_dim\"],cfg[\"vocab_size\"])\n",
        "    def forward(self,x):\n",
        "        _ , seq_len = x.shape\n",
        "        x = self.pos_emb(torch.arange(seq_len)) + self.token_emb(x)\n",
        "        x = self.drop(x)\n",
        "        for layer in self.transformers:\n",
        "            x = layer(x)\n",
        "        x = self.norm(x)\n",
        "        return self.out(x)"
      ]
    },
    {
      "cell_type": "code",
      "execution_count": 25,
      "metadata": {},
      "outputs": [
        {
          "data": {
            "text/plain": [
              "torch.Size([2, 4, 50257])"
            ]
          },
          "execution_count": 25,
          "metadata": {},
          "output_type": "execute_result"
        }
      ],
      "source": [
        "import torch\n",
        "gpt2 = GPT2(GPT_CONFIG_124M)\n",
        "inputs = torch.randint(low=0, high=50257, size=(2, 4))  # integers between 0 and 9\n",
        "gpt2(inputs).shape"
      ]
    },
    {
      "cell_type": "code",
      "execution_count": 26,
      "metadata": {},
      "outputs": [],
      "source": [
        "def generate_text_simple(model, idx, max_new_tokens, context_size):\n",
        "    # idx is (batch, n_tokens) array of indices in the current context\n",
        "\n",
        "    ###Input batch:\n",
        " ###tensor([[6109, 3626, 6100,  345],\n",
        "        ##[6109, 1110, 6622,  257]])\n",
        "    \n",
        "    for _ in range(max_new_tokens):\n",
        "        \n",
        "        # Crop current context if it exceeds the supported context size\n",
        "        # E.g., if LLM supports only 5 tokens, and the context size is 10\n",
        "        # then only the last 5 tokens are used as context\n",
        "        idx_cond = idx[:, -context_size:]\n",
        "        \n",
        "        # Get the predictions\n",
        "        with torch.no_grad():\n",
        "            logits = model(idx_cond) ### batch, n_tokens, vocab_size\n",
        "        \n",
        "        # Focus only on the last time step\n",
        "        # (batch, n_tokens, vocab_size) becomes (batch, vocab_size)\n",
        "        logits = logits[:, -1, :]  \n",
        "\n",
        "        # Apply softmax to get probabilities\n",
        "        probas = torch.softmax(logits, dim=-1)  # (batch, vocab_size)\n",
        "\n",
        "        # Get the idx of the vocab entry with the highest probability value\n",
        "        idx_next = torch.argmax(probas, dim=-1, keepdim=True)  # (batch, 1)\n",
        "\n",
        "        # Append sampled index to the running sequence\n",
        "        idx = torch.cat((idx, idx_next), dim=1)  # (batch, n_tokens+1)\n",
        "\n",
        "    return idx"
      ]
    },
    {
      "cell_type": "code",
      "execution_count": 27,
      "metadata": {},
      "outputs": [
        {
          "name": "stdout",
          "output_type": "stream",
          "text": [
            "encoded: [15496, 11, 314, 716]\n",
            "encoded_tensor.shape: torch.Size([1, 4])\n",
            "Output: tensor([[15496,    11,   314,   716,   407, 14495, 30457, 27415, 26328, 48690]])\n",
            "Output length: 10\n"
          ]
        }
      ],
      "source": [
        "start_context = \"Hello, I am\"\n",
        "encoded = tokenizer.encode(start_context)\n",
        "print(\"encoded:\", encoded)\n",
        "encoded_tensor = torch.tensor(encoded).unsqueeze(0) #A\n",
        "print(\"encoded_tensor.shape:\", encoded_tensor.shape)\n",
        "model.eval() #A\n",
        "#model = GPTModel(GPT_CONFIG_124M)\n",
        "out = generate_text_simple(\n",
        "model=gpt2,\n",
        "idx=encoded_tensor,\n",
        "max_new_tokens=6,\n",
        "context_size=GPT_CONFIG_124M[\"context_length\"]\n",
        ")\n",
        "print(\"Output:\", out)\n",
        "print(\"Output length:\", len(out[0]))"
      ]
    },
    {
      "cell_type": "code",
      "execution_count": 28,
      "metadata": {},
      "outputs": [
        {
          "name": "stdout",
          "output_type": "stream",
          "text": [
            "Hello, I am not peersBanARS Wolver fracturing\n"
          ]
        }
      ],
      "source": [
        "decoded_text = tokenizer.decode(out.squeeze(0).tolist())\n",
        "print(decoded_text)"
      ]
    },
    {
      "cell_type": "code",
      "execution_count": 29,
      "metadata": {},
      "outputs": [],
      "source": [
        "import torch\n",
        "\n",
        "GPT_CONFIG_124M = {\n",
        "    \"vocab_size\": 50257,   # Vocabulary size\n",
        "    \"context_length\": 256, # Shortened context length (orig: 1024)\n",
        "    \"emb_dim\": 768,        # Embedding dimension\n",
        "    \"n_heads\": 12,         # Number of attention heads\n",
        "    \"n_layers\": 12,        # Number of layers\n",
        "    \"drop_rate\": 0.1,      # Dropout rate\n",
        "    \"qkv_bias\": False      # Query-key-value bias\n",
        "}\n",
        "\n",
        "torch.manual_seed(123)\n",
        "model = GPT2(GPT_CONFIG_124M)\n",
        "model.eval();  # Disable dropout during inference"
      ]
    },
    {
      "cell_type": "markdown",
      "metadata": {},
      "source": [
        "**Loss Calculation**"
      ]
    },
    {
      "cell_type": "code",
      "execution_count": 30,
      "metadata": {},
      "outputs": [
        {
          "name": "stdout",
          "output_type": "stream",
          "text": [
            "Output text:\n",
            " Every effort moves youahl supporter minersEnabledUm felateral Narr tested evil\n"
          ]
        }
      ],
      "source": [
        "import tiktoken\n",
        "\n",
        "def text_to_token_ids(text, tokenizer):\n",
        "    encoded = tokenizer.encode(text, allowed_special={'<|endoftext|>'})\n",
        "    encoded_tensor = torch.tensor(encoded).unsqueeze(0) # add batch dimension\n",
        "    return encoded_tensor\n",
        "\n",
        "def token_ids_to_text(token_ids, tokenizer):\n",
        "    flat = token_ids.squeeze(0) # remove batch dimension\n",
        "    return tokenizer.decode(flat.tolist())\n",
        "\n",
        "start_context = \"Every effort moves you\"\n",
        "tokenizer = tiktoken.get_encoding(\"gpt2\")\n",
        "\n",
        "token_ids = generate_text_simple(\n",
        "    model=model,\n",
        "    idx=text_to_token_ids(start_context, tokenizer),\n",
        "    max_new_tokens=10,\n",
        "    context_size=GPT_CONFIG_124M[\"context_length\"]\n",
        ")\n",
        "\n",
        "print(\"Output text:\\n\", token_ids_to_text(token_ids, tokenizer))"
      ]
    },
    {
      "cell_type": "code",
      "execution_count": 31,
      "metadata": {},
      "outputs": [],
      "source": [
        "inputs = torch.tensor([[16833, 3626, 6100],   # [\"every effort moves\",\n",
        "                       [40,    1107, 588]])   #  \"I really like\"]\n",
        "\n",
        "targets = torch.tensor([[3626, 6100, 345  ],  # [\" effort moves you\",\n",
        "                        [1107,  588, 11311]]) #  \" really like chocolate\"]"
      ]
    },
    {
      "cell_type": "code",
      "execution_count": 32,
      "metadata": {},
      "outputs": [
        {
          "name": "stdout",
          "output_type": "stream",
          "text": [
            "torch.Size([2, 3, 50257])\n"
          ]
        }
      ],
      "source": [
        "with torch.no_grad():\n",
        "    logits = model(inputs)\n",
        "probs = torch.softmax(logits,dim=-1)\n",
        "print(probs.shape)\n"
      ]
    },
    {
      "cell_type": "code",
      "execution_count": 33,
      "metadata": {},
      "outputs": [
        {
          "data": {
            "text/plain": [
              "tensor([[[43308],\n",
              "         [44213],\n",
              "         [ 6957]],\n",
              "\n",
              "        [[38913],\n",
              "         [48204],\n",
              "         [15442]]])"
            ]
          },
          "execution_count": 33,
          "metadata": {},
          "output_type": "execute_result"
        }
      ],
      "source": [
        "token_ids = torch.argmax(probs,dim=-1,keepdim=True)\n",
        "token_ids"
      ]
    },
    {
      "cell_type": "code",
      "execution_count": 34,
      "metadata": {},
      "outputs": [
        {
          "name": "stdout",
          "output_type": "stream",
          "text": [
            "Targets batch 1:  effort moves you\n",
            "Outputs batch 1:  NXTNaturally 95\n"
          ]
        }
      ],
      "source": [
        "print(f\"Targets batch 1: {token_ids_to_text(targets[0], tokenizer)}\")\n",
        "print(f\"Outputs batch 1: {token_ids_to_text(token_ids[0].flatten(), tokenizer)}\")"
      ]
    },
    {
      "cell_type": "code",
      "execution_count": 35,
      "metadata": {},
      "outputs": [],
      "source": [
        "inputs = torch.tensor([[16833, 3626, 6100],   # [\"every effort moves\",\n",
        "                       [40,    1107, 588]])   #  \"I really like\"]\n",
        "\n",
        "targets = torch.tensor([[3626, 6100, 345  ],  # [\" effort moves you\",\n",
        "                        [1107,  588, 11311]]) #  \" really like chocolate\"]\n",
        "text_idx = 0\n",
        "target_probs_1 = probs[text_idx,[0,1,2],targets[text_idx]]\n",
        "\n",
        "text_idx = 1\n",
        "target_probs_2 = probs[text_idx,[0,1,2],targets[text_idx]] # 0,1,2 is because the context len we are seeing here is 3"
      ]
    },
    {
      "cell_type": "code",
      "execution_count": 36,
      "metadata": {},
      "outputs": [
        {
          "data": {
            "text/plain": [
              "tensor(10.8587)"
            ]
          },
          "execution_count": 36,
          "metadata": {},
          "output_type": "execute_result"
        }
      ],
      "source": [
        "log_probs = torch.log(torch.cat((target_probs_1,target_probs_2)))\n",
        "negative_log_likellihood = torch.mean(log_probs)*-1\n",
        "negative_log_likellihood"
      ]
    },
    {
      "cell_type": "code",
      "execution_count": 37,
      "metadata": {},
      "outputs": [],
      "source": [
        "logits = logits.flatten(0,1)\n",
        "targets = targets.flatten()"
      ]
    },
    {
      "cell_type": "code",
      "execution_count": 38,
      "metadata": {},
      "outputs": [
        {
          "data": {
            "text/plain": [
              "tensor(10.8587)"
            ]
          },
          "execution_count": 38,
          "metadata": {},
          "output_type": "execute_result"
        }
      ],
      "source": [
        "nn.functional.cross_entropy(logits,targets)"
      ]
    },
    {
      "cell_type": "code",
      "execution_count": 39,
      "metadata": {},
      "outputs": [],
      "source": [
        "with open(\"/Users/joyboy/Downloads/LLM'S_from_Scratch/the-verdict.txt\",\"r\") as f:\n",
        "    text = f.read()"
      ]
    },
    {
      "cell_type": "code",
      "execution_count": 40,
      "metadata": {},
      "outputs": [],
      "source": [
        "import tiktoken\n",
        "tokenizer = tiktoken.get_encoding(\"gpt2\")"
      ]
    },
    {
      "cell_type": "code",
      "execution_count": 41,
      "metadata": {},
      "outputs": [],
      "source": [
        "from torch.utils.data import Dataset,DataLoader\n",
        "class GPTDatasetV1(Dataset):\n",
        "    def __init__(self,text,tokenizer,max_len,stride):\n",
        "        super().__init__()\n",
        "        self.input_ids = []\n",
        "        self.target_ids = []\n",
        "\n",
        "        self.token_ids = tokenizer.encode(text,allowed_special={\"<|endoftext|>\"})\n",
        "\n",
        "        for i in range(0,len(self.token_ids)-max_len,stride):\n",
        "            input_chunk = self.token_ids[i:i+max_len]\n",
        "            target_chunk = self.token_ids[i+1:i+max_len+1]\n",
        "            self.input_ids.append(torch.tensor(input_chunk))\n",
        "            self.target_ids.append(torch.tensor(target_chunk))\n",
        "    def __len__(self):\n",
        "        return len(self.input_ids)\n",
        "    def __getitem__(self, index):\n",
        "        return self.input_ids[index],self.target_ids[index]"
      ]
    },
    {
      "cell_type": "code",
      "execution_count": 42,
      "metadata": {},
      "outputs": [],
      "source": [
        "def create_dataloader(txt,batch_size = 4,max_len = 256,stride = 128,shuffle = True,drop_last = True,num_workers = 0):\n",
        "    tokenizer = tiktoken.get_encoding(\"gpt2\")\n",
        "    dataset = GPTDatasetV1(txt,tokenizer,max_len,stride)\n",
        "\n",
        "    return  DataLoader(\n",
        "        dataset=dataset,\n",
        "        batch_size=batch_size,\n",
        "        shuffle=shuffle,\n",
        "        drop_last=drop_last,\n",
        "        num_workers=num_workers\n",
        "    )"
      ]
    },
    {
      "cell_type": "code",
      "execution_count": 43,
      "metadata": {},
      "outputs": [],
      "source": [
        "GPT_CONFIG_124M = {\n",
        "    \"vocab_size\": 50257,   # Vocabulary size\n",
        "    \"context_length\": 256, # Shortened context length (orig: 1024)\n",
        "    \"emb_dim\": 768,        # Embedding dimension\n",
        "    \"n_heads\": 12,         # Number of attention heads\n",
        "    \"n_layers\": 12,        # Number of layers\n",
        "    \"drop_rate\": 0.1,      # Dropout rate\n",
        "    \"qkv_bias\": False      # Query-key-value bias\n",
        "}\n",
        "# Train/validation ratio\n",
        "train_ratio = 0.90\n",
        "split_idx = int(train_ratio * len(text))\n",
        "train_data = text[:split_idx]\n",
        "val_data = text[split_idx:]\n",
        "\n",
        "train_loader = create_dataloader(\n",
        "    train_data,2,GPT_CONFIG_124M[\"context_length\"]\n",
        "    ,stride=GPT_CONFIG_124M[\"context_length\"]\n",
        "    ,drop_last=False,shuffle=False,num_workers=0\n",
        ")\n",
        "valid_loader = create_dataloader(\n",
        "    val_data,2,GPT_CONFIG_124M[\"context_length\"]\n",
        "    ,stride=GPT_CONFIG_124M[\"context_length\"]\n",
        "    ,drop_last=False,shuffle=False,num_workers=0\n",
        ")"
      ]
    },
    {
      "cell_type": "code",
      "execution_count": 44,
      "metadata": {},
      "outputs": [
        {
          "name": "stdout",
          "output_type": "stream",
          "text": [
            "torch.Size([2, 256]) torch.Size([2, 256])\n",
            "torch.Size([2, 256]) torch.Size([2, 256])\n",
            "torch.Size([2, 256]) torch.Size([2, 256])\n",
            "torch.Size([2, 256]) torch.Size([2, 256])\n",
            "torch.Size([2, 256]) torch.Size([2, 256])\n",
            "torch.Size([2, 256]) torch.Size([2, 256])\n",
            "torch.Size([2, 256]) torch.Size([2, 256])\n",
            "torch.Size([2, 256]) torch.Size([2, 256])\n",
            "torch.Size([2, 256]) torch.Size([2, 256])\n"
          ]
        }
      ],
      "source": [
        "for x,y in train_loader:\n",
        "    print(x.shape,y.shape)"
      ]
    },
    {
      "cell_type": "code",
      "execution_count": 45,
      "metadata": {},
      "outputs": [
        {
          "data": {
            "text/plain": [
              "GPT2(\n",
              "  (token_emb): Embedding(50257, 768)\n",
              "  (pos_emb): Embedding(256, 768)\n",
              "  (drop): Dropout(p=0.1, inplace=False)\n",
              "  (transformers): ModuleList(\n",
              "    (0-11): 12 x Transformer(\n",
              "      (ff): FeedForward(\n",
              "        (feed_forward): Sequential(\n",
              "          (0): Linear(in_features=768, out_features=3072, bias=True)\n",
              "          (1): GELU(approximate='none')\n",
              "          (2): Linear(in_features=3072, out_features=768, bias=True)\n",
              "        )\n",
              "      )\n",
              "      (norm1): LayerNorm()\n",
              "      (norm2): LayerNorm()\n",
              "      (drop): Dropout(p=0.1, inplace=False)\n",
              "      (att): MultiHeadAttention(\n",
              "        (W_query): Linear(in_features=768, out_features=768, bias=False)\n",
              "        (W_key): Linear(in_features=768, out_features=768, bias=False)\n",
              "        (W_value): Linear(in_features=768, out_features=768, bias=False)\n",
              "        (out_proj): Linear(in_features=768, out_features=768, bias=True)\n",
              "        (dropout): Dropout(p=0.1, inplace=False)\n",
              "      )\n",
              "    )\n",
              "  )\n",
              "  (norm): LayerNorm()\n",
              "  (out): Linear(in_features=768, out_features=50257, bias=True)\n",
              ")"
            ]
          },
          "execution_count": 45,
          "metadata": {},
          "output_type": "execute_result"
        }
      ],
      "source": [
        "torch.manual_seed(123)\n",
        "gpt2 = GPT2(GPT_CONFIG_124M)\n",
        "model.eval()"
      ]
    },
    {
      "cell_type": "code",
      "execution_count": 46,
      "metadata": {},
      "outputs": [],
      "source": [
        "\n",
        "def calc_loss_batch(input_batch, target_batch, model, device):\n",
        "    # input_batch, target_batch = input_batch.to(device), target_batch.to(device)\n",
        "    logits = model(input_batch)\n",
        "    loss = torch.nn.functional.cross_entropy(logits.flatten(0, 1), target_batch.flatten())\n",
        "    return loss\n",
        "\n",
        "\n",
        "def calc_loss_loader(data_loader, model, device, num_batches=None):\n",
        "    total_loss = 0.\n",
        "    if len(data_loader) == 0:\n",
        "        return float(\"nan\")\n",
        "    elif num_batches is None:\n",
        "        num_batches = len(data_loader)\n",
        "    else:\n",
        "        # Reduce the number of batches to match the total number of batches in the data loader\n",
        "        # if num_batches exceeds the number of batches in the data loader\n",
        "        num_batches = min(num_batches, len(data_loader))\n",
        "    for i, (input_batch, target_batch) in enumerate(data_loader):\n",
        "        if i < num_batches:\n",
        "            loss = calc_loss_batch(input_batch, target_batch, model, device)\n",
        "            total_loss += loss.item()\n",
        "        else:\n",
        "            break\n",
        "    return total_loss / num_batches"
      ]
    },
    {
      "cell_type": "code",
      "execution_count": 47,
      "metadata": {},
      "outputs": [
        {
          "data": {
            "text/plain": [
              "11.005967881944445"
            ]
          },
          "execution_count": 47,
          "metadata": {},
          "output_type": "execute_result"
        }
      ],
      "source": [
        "\n",
        "calc_loss_loader(train_loader,model,device=\"mps\")"
      ]
    },
    {
      "cell_type": "code",
      "execution_count": 48,
      "metadata": {},
      "outputs": [],
      "source": [
        "def evaluate_model(model, train_loader, val_loader, device, eval_iter):\n",
        "    model.eval()\n",
        "    with torch.no_grad():\n",
        "        train_loss = calc_loss_loader(train_loader, model, device, num_batches=eval_iter)\n",
        "        val_loss = calc_loss_loader(val_loader, model, device, num_batches=eval_iter)\n",
        "    model.train()\n",
        "    return train_loss, val_loss\n",
        "def generate_and_print_sample(model, tokenizer, device, start_context):\n",
        "    model.eval()\n",
        "    context_size = model.pos_emb.weight.shape[0]\n",
        "    encoded = text_to_token_ids(start_context, tokenizer)\n",
        "    with torch.no_grad():\n",
        "        token_ids = generate_text_simple(\n",
        "            model=model, idx=encoded,\n",
        "            max_new_tokens=50, context_size=context_size\n",
        "        )\n",
        "    decoded_text = token_ids_to_text(token_ids, tokenizer)\n",
        "    print(decoded_text.replace(\"\\n\", \" \"))  # Compact print format\n",
        "    model.train()\n",
        "def train_model(model,train_loader,valid_loader,optimizer,device,num_epochs,eval_freq,eval_iter,start_context,tokenizer):\n",
        "    train_loses,valid_loses,track_tokens = [],[],[]\n",
        "    tokens_seen , global_step =0, -1\n",
        "\n",
        "    for epoch in range(num_epochs):\n",
        "        model.train()\n",
        "        for input_batch,target_batch in train_loader:\n",
        "            optimizer.zero_grad()\n",
        "            loss = calc_loss_batch(model=model,input_batch=input_batch,target_batch=target_batch,device=device)\n",
        "            loss.backward()\n",
        "            optimizer.step()\n",
        "            tokens_seen += input_batch.numel()\n",
        "            global_step+=1\n",
        "\n",
        "            if global_step % eval_freq==0:\n",
        "                train_loss, val_loss = evaluate_model(model,train_loader,valid_loader,device,eval_iter)\n",
        "                train_loses.append(train_loss)\n",
        "                valid_loses.append(val_loss)\n",
        "                track_tokens.append(tokens_seen)\n",
        "                print(f\"Epoch {epoch}: Train loss: {train_loss} Valid Loss: {val_loss}\")\n",
        "             # Print a sample text after each epoch\n",
        "        generate_and_print_sample(\n",
        "            model, tokenizer, device, start_context\n",
        "        )\n",
        "    return train_loses,valid_loses"
      ]
    },
    {
      "cell_type": "code",
      "execution_count": null,
      "metadata": {},
      "outputs": [],
      "source": [
        "torch.manual_seed(123)\n",
        "model = GPT2(GPT_CONFIG_124M)\n",
        "optimizer = torch.optim.AdamW(model.parameters(),lr=0.0004,weight_decay=0.1)\n",
        "num_epochs = 10\n",
        "train_model(model,train_loader,valid_loader,optimizer,\"mps\",num_epochs,5,5,\"Every effort moves you\",tokenizer)"
      ]
    },
    {
      "cell_type": "code",
      "execution_count": 50,
      "metadata": {},
      "outputs": [
        {
          "data": {
            "text/plain": [
              "'Every effort moves youahl supporter minersEnabledUm felateral Narr tested evilconom silicone Mavericks EquityKill Rath cuts RBI slipperyhuge ZambublishedendmentCharles aerobic'"
            ]
          },
          "execution_count": 50,
          "metadata": {},
          "output_type": "execute_result"
        }
      ],
      "source": [
        "model.eval()\n",
        "GPT_CONFIG_124M = {\n",
        "    \"vocab_size\": 50257,   # Vocabulary size\n",
        "    \"context_length\": 256, # Shortened context length (orig: 1024)\n",
        "    \"emb_dim\": 768,        # Embedding dimension\n",
        "    \"n_heads\": 12,         # Number of attention heads\n",
        "    \"n_layers\": 12,        # Number of layers\n",
        "    \"drop_rate\": 0.1,      # Dropout rate\n",
        "    \"qkv_bias\": False      # Query-key-value bias\n",
        "}\n",
        "tokenizer = tiktoken.get_encoding(\"gpt2\")\n",
        "token_ids = generate_text_simple(\n",
        "    model=model,\n",
        "    idx=text_to_token_ids(\"Every effort moves you\",tokenizer),\n",
        "    max_new_tokens=25,\n",
        "    context_size = GPT_CONFIG_124M[\"context_length\"]\n",
        ")\n",
        "out = token_ids_to_text(token_ids,tokenizer)\n",
        "out"
      ]
    },
    {
      "cell_type": "code",
      "execution_count": 51,
      "metadata": {},
      "outputs": [],
      "source": [
        "vocab = { \n",
        "    \"closer\": 0,\n",
        "    \"every\": 1, \n",
        "    \"effort\": 2, \n",
        "    \"forward\": 3,\n",
        "    \"inches\": 4,\n",
        "    \"moves\": 5, \n",
        "    \"pizza\": 6,\n",
        "    \"toward\": 7,\n",
        "    \"you\": 8,\n",
        "} \n",
        "\n",
        "inverse_vocab = {v: k for k, v in vocab.items()}\n",
        "next_token_logits = torch.tensor(\n",
        "[4.51, 0.89, -1.90, 6.75, 1.63, -1.62, -1.89, 6.28, 1.79]\n",
        ")"
      ]
    },
    {
      "cell_type": "markdown",
      "metadata": {},
      "source": [
        "**This is what we are doing untill now taking argmax**"
      ]
    },
    {
      "cell_type": "code",
      "execution_count": 52,
      "metadata": {},
      "outputs": [
        {
          "name": "stdout",
          "output_type": "stream",
          "text": [
            "tensor([6.0907e-02, 1.6313e-03, 1.0019e-04, 5.7212e-01, 3.4190e-03, 1.3257e-04,\n",
            "        1.0120e-04, 3.5758e-01, 4.0122e-03])\n",
            "3\n",
            "forward\n"
          ]
        }
      ],
      "source": [
        "probs = torch.softmax(next_token_logits,dim=-1)\n",
        "next_tokon = torch.argmax(probs)\n",
        "print(probs)\n",
        "print(next_tokon.item())\n",
        "print(inverse_vocab[next_tokon.item()])"
      ]
    },
    {
      "cell_type": "code",
      "execution_count": 53,
      "metadata": {},
      "outputs": [
        {
          "name": "stdout",
          "output_type": "stream",
          "text": [
            "tensor([6.0907e-02, 1.6313e-03, 1.0019e-04, 5.7212e-01, 3.4190e-03, 1.3257e-04,\n",
            "        1.0120e-04, 3.5758e-01, 4.0122e-03])\n",
            "3\n",
            "forward\n"
          ]
        }
      ],
      "source": [
        "probs = torch.softmax(next_token_logits,dim=-1)\n",
        "next_tokon = torch.multinomial(probs,num_samples=1)\n",
        "print(probs)\n",
        "print(next_tokon.item())\n",
        "print(inverse_vocab[next_tokon.item()])"
      ]
    },
    {
      "cell_type": "code",
      "execution_count": 54,
      "metadata": {},
      "outputs": [],
      "source": [
        "top_k_logits , top_k_tokens = torch.topk(next_token_logits,k=3)"
      ]
    },
    {
      "cell_type": "code",
      "execution_count": 55,
      "metadata": {},
      "outputs": [
        {
          "data": {
            "text/plain": [
              "tensor([6.7500, 6.2800, 4.5100])"
            ]
          },
          "execution_count": 55,
          "metadata": {},
          "output_type": "execute_result"
        }
      ],
      "source": [
        "top_k_logits"
      ]
    },
    {
      "cell_type": "code",
      "execution_count": 56,
      "metadata": {},
      "outputs": [],
      "source": [
        "top_k_logits = torch.where(\n",
        "    condition=next_token_logits< top_k_logits[-1],\n",
        "    input=torch.tensor(float(\"-inf\")),\n",
        "    other=next_token_logits\n",
        ")"
      ]
    },
    {
      "cell_type": "code",
      "execution_count": 57,
      "metadata": {},
      "outputs": [
        {
          "data": {
            "text/plain": [
              "tensor([0.0615, 0.0000, 0.0000, 0.5775, 0.0000, 0.0000, 0.0000, 0.3610, 0.0000])"
            ]
          },
          "execution_count": 57,
          "metadata": {},
          "output_type": "execute_result"
        }
      ],
      "source": [
        "probs = torch.softmax(top_k_logits,dim=-1)\n",
        "probs"
      ]
    },
    {
      "cell_type": "code",
      "execution_count": 58,
      "metadata": {},
      "outputs": [],
      "source": [
        "def generate(model, idx, max_new_tokens, context_size, temperature=0.0, top_k=None, eos_id=None):\n",
        "\n",
        "    # For-loop is the same as before: Get logits, and only focus on last time step\n",
        "    for _ in range(max_new_tokens):\n",
        "        idx_cond = idx[:, -context_size:]\n",
        "        with torch.no_grad():\n",
        "            logits = model(idx_cond)\n",
        "        logits = logits[:, -1, :]\n",
        "\n",
        "        # New: Filter logits with top_k sampling\n",
        "        if top_k is not None:\n",
        "            # Keep only top_k values\n",
        "            top_logits, _ = torch.topk(logits, top_k)\n",
        "            min_val = top_logits[:, -1]\n",
        "            logits = torch.where(logits < min_val, torch.tensor(float(\"-inf\")).to(logits.device), logits)\n",
        "\n",
        "        # New: Apply temperature scaling\n",
        "        if temperature > 0.0:\n",
        "            logits = logits / temperature\n",
        "\n",
        "            # Apply softmax to get probabilities\n",
        "            probs = torch.softmax(logits, dim=-1)  # (batch_size, context_len)\n",
        "\n",
        "            # Sample from the distribution\n",
        "            idx_next = torch.multinomial(probs, num_samples=1)  # (batch_size, 1)\n",
        "\n",
        "        # Otherwise same as before: get idx of the vocab entry with the highest logits value\n",
        "        else:\n",
        "            idx_next = torch.argmax(logits, dim=-1, keepdim=True)  # (batch_size, 1)\n",
        "\n",
        "        if idx_next == eos_id:  # Stop generating early if end-of-sequence token is encountered and eos_id is specified\n",
        "            break\n",
        "\n",
        "        # Same as before: append sampled index to the running sequence\n",
        "        idx = torch.cat((idx, idx_next), dim=1)  # (batch_size, num_tokens+1)\n",
        "\n",
        "    return idx\n"
      ]
    },
    {
      "cell_type": "code",
      "execution_count": 59,
      "metadata": {},
      "outputs": [
        {
          "data": {
            "text/plain": [
              "'Every effort moves you continuous caramel NAFTA Michaelarget Alienテ gladly finalized Districtutf demandedpotion PattyNice'"
            ]
          },
          "execution_count": 59,
          "metadata": {},
          "output_type": "execute_result"
        }
      ],
      "source": [
        "model = model.eval()\n",
        "token_ids_to_text(generate(\n",
        "    model=model,\n",
        "    idx= text_to_token_ids(\"Every effort moves you\",tokenizer)\n",
        "    ,max_new_tokens=15,\n",
        "    context_size=GPT_CONFIG_124M[\"context_length\"],\n",
        "    top_k=25,\n",
        "    temperature=1.4\n",
        "),tokenizer=tokenizer)"
      ]
    },
    {
      "cell_type": "code",
      "execution_count": 60,
      "metadata": {},
      "outputs": [
        {
          "name": "stdout",
          "output_type": "stream",
          "text": [
            "Every effort moves youahl supporter minersEnabledUm felateral Narr tested evilconom silicone Mavericks EquityKill Rath cuts RBI slipperyhuge ZambublishedendmentCharles aerobic ,\" benefited ConversER Revis misleading cookingZI adapting Music uniquely Hezbollah nineteendedusionaldk bug fence BE geneticsDefaultisec worldongyang628\n"
          ]
        }
      ],
      "source": [
        "generate_and_print_sample(\n",
        "            model, tokenizer, \"mps\", \"Every effort moves you\"\n",
        "        )"
      ]
    },
    {
      "cell_type": "code",
      "execution_count": null,
      "metadata": {},
      "outputs": [],
      "source": [
        "torch.save({\n",
        "    \"model_state\":model.state_dict(),\n",
        "    \"optimizer_state\":optimizer.state_dict(),},\n",
        "    \"model_and_optimizer.pth\"\n",
        ")"
      ]
    },
    {
      "cell_type": "code",
      "execution_count": null,
      "metadata": {},
      "outputs": [],
      "source": [
        "checkpoint = torch.load(\"model_and_optimizer.pth\",weights_only=False)\n",
        "gpt2 = GPT2(GPT_CONFIG_124M)\n",
        "gpt2.load_state_dict(checkpoint[\"model_state\"])\n",
        "optimizer = torch.optim.AdamW(model.parameters(),lr=0.0004,weight_decay=0.1)\n",
        "optimizer.load_state_dict(checkpoint[\"optimizer_state\"])\n",
        "gpt2.train()"
      ]
    },
    {
      "cell_type": "code",
      "execution_count": null,
      "metadata": {},
      "outputs": [],
      "source": [
        "num_epochs = 5\n",
        "train_model(gpt2,train_loader,valid_loader,optimizer,\"mps\",num_epochs,5,5,\"Every effort moves you\",tokenizer)"
      ]
    },
    {
      "cell_type": "code",
      "execution_count": null,
      "metadata": {},
      "outputs": [],
      "source": []
    }
  ],
  "metadata": {
    "colab": {
      "provenance": []
    },
    "kernelspec": {
      "display_name": "Python 3",
      "name": "python3"
    },
    "language_info": {
      "codemirror_mode": {
        "name": "ipython",
        "version": 3
      },
      "file_extension": ".py",
      "mimetype": "text/x-python",
      "name": "python",
      "nbconvert_exporter": "python",
      "pygments_lexer": "ipython3",
      "version": "3.9.23"
    }
  },
  "nbformat": 4,
  "nbformat_minor": 0
}
