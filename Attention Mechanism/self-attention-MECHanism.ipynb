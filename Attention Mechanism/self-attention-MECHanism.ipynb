{
  "nbformat": 4,
  "nbformat_minor": 0,
  "metadata": {
    "colab": {
      "provenance": []
    },
    "kernelspec": {
      "name": "python3",
      "display_name": "Python 3"
    },
    "language_info": {
      "name": "python"
    }
  },
  "cells": [
    {
      "cell_type": "code",
      "source": [
        "!pip install torch"
      ],
      "metadata": {
        "id": "iPVMJihq4W_B"
      },
      "execution_count": null,
      "outputs": []
    },
    {
      "cell_type": "code",
      "execution_count": 33,
      "metadata": {
        "colab": {
          "base_uri": "https://localhost:8080/"
        },
        "id": "eNCSG8il3cu8",
        "outputId": "06e42649-3ee5-41da-d4c7-022db49f8e9d"
      },
      "outputs": [
        {
          "output_type": "stream",
          "name": "stdout",
          "text": [
            "torch.Size([6, 3])\n"
          ]
        }
      ],
      "source": [
        "import torch\n",
        "\n",
        "inputs = torch.tensor([\n",
        "    [0.43, 0.15, 0.891],  # \"Your\"\n",
        "    [0.55, 0.87, 0.66],   # \"journey\"\n",
        "    [0.57, 0.85, 0.641],  # \"starts\"\n",
        "    [0.22, 0.58, 0.331], # \"with\"\n",
        "    [0.77, 0.25, 0.101],  # \"one\"\n",
        "    [0.05, 0.80, 0.551]   # \"step\"\n",
        "])\n",
        "\n",
        "print(inputs.shape)\n"
      ]
    },
    {
      "cell_type": "code",
      "source": [
        "x_2 = inputs[1]\n",
        "d_in = inputs.shape[1]\n",
        "d_out = 2"
      ],
      "metadata": {
        "id": "x5gdTuSzKeXN"
      },
      "execution_count": 41,
      "outputs": []
    },
    {
      "cell_type": "code",
      "source": [
        "torch.manual_seed(123)\n",
        "\n",
        "W_Q = torch.nn.Parameter(torch.rand(d_in,d_out),requires_grad=False)\n",
        "W_K = torch.nn.Parameter(torch.rand(d_in,d_out),requires_grad=False)\n",
        "W_V = torch.nn.Parameter(torch.rand(d_in,d_out),requires_grad=False)"
      ],
      "metadata": {
        "id": "VdVeALN1KjPs"
      },
      "execution_count": 44,
      "outputs": []
    },
    {
      "cell_type": "code",
      "source": [
        "query_2 = x_2 @ W_Q\n",
        "value_2 = x_2 @ W_V\n",
        "key_2 = x_2 @ W_K\n",
        "key_2"
      ],
      "metadata": {
        "colab": {
          "base_uri": "https://localhost:8080/"
        },
        "id": "wTOSAo1cQ7cG",
        "outputId": "fe0b580b-adf0-4f3a-c250-1ec21bf2e1cd"
      },
      "execution_count": 49,
      "outputs": [
        {
          "output_type": "execute_result",
          "data": {
            "text/plain": [
              "tensor([0.4433, 1.1419])"
            ]
          },
          "metadata": {},
          "execution_count": 49
        }
      ]
    },
    {
      "cell_type": "code",
      "source": [
        "queries = inputs @ W_Q\n",
        "values = inputs @ W_V\n",
        "keys = inputs @ W_K\n",
        "keys"
      ],
      "metadata": {
        "colab": {
          "base_uri": "https://localhost:8080/"
        },
        "id": "980jXhImQ8DX",
        "outputId": "9dd54899-5b6b-446f-ded8-8aadc86429ed"
      },
      "execution_count": 52,
      "outputs": [
        {
          "output_type": "execute_result",
          "data": {
            "text/plain": [
              "tensor([[0.3672, 0.7652],\n",
              "        [0.4433, 1.1419],\n",
              "        [0.4364, 1.1163],\n",
              "        [0.2411, 0.6713],\n",
              "        [0.1830, 0.3299],\n",
              "        [0.3278, 0.9649]])"
            ]
          },
          "metadata": {},
          "execution_count": 52
        }
      ]
    },
    {
      "cell_type": "code",
      "source": [
        "#calcate attention scores by dot producting query and key\n",
        "\n",
        "attentionscore_2 = query_2 @ keys.T\n",
        "\n",
        "attentionscore_2"
      ],
      "metadata": {
        "colab": {
          "base_uri": "https://localhost:8080/"
        },
        "id": "5ehtSAqBhtIy",
        "outputId": "204d65d3-449c-43e2-95fc-16ba04549e28"
      },
      "execution_count": 53,
      "outputs": [
        {
          "output_type": "execute_result",
          "data": {
            "text/plain": [
              "tensor([1.2716, 1.8524, 1.8122, 1.0807, 0.5589, 1.5451])"
            ]
          },
          "metadata": {},
          "execution_count": 53
        }
      ]
    },
    {
      "cell_type": "code",
      "source": [
        "attention_scores = queries @ keys.T\n",
        "attention_scores"
      ],
      "metadata": {
        "colab": {
          "base_uri": "https://localhost:8080/"
        },
        "id": "Qcf29_YFmTzP",
        "outputId": "e3be2303-8029-4166-f88a-d9e1a7a60b9c"
      },
      "execution_count": 54,
      "outputs": [
        {
          "output_type": "execute_result",
          "data": {
            "text/plain": [
              "tensor([[0.9247, 1.3556, 1.3259, 0.7925, 0.4044, 1.1346],\n",
              "        [1.2716, 1.8524, 1.8122, 1.0807, 0.5589, 1.5451],\n",
              "        [1.2562, 1.8294, 1.7898, 1.0672, 0.5522, 1.5257],\n",
              "        [0.6986, 1.0177, 0.9957, 0.5938, 0.3070, 0.8490],\n",
              "        [0.6127, 0.8830, 0.8641, 0.5133, 0.2715, 0.7321],\n",
              "        [0.9010, 1.3176, 1.2889, 0.7696, 0.3948, 1.1013]])"
            ]
          },
          "metadata": {},
          "execution_count": 54
        }
      ]
    },
    {
      "cell_type": "code",
      "source": [
        "d_k = keys.shape[-1]\n",
        "\n",
        "attention_weights = torch.softmax(attention_scores/d_k**0.5,dim=-1)\n",
        "attention_weights"
      ],
      "metadata": {
        "colab": {
          "base_uri": "https://localhost:8080/"
        },
        "id": "LDQ1eL_BoyIk",
        "outputId": "dbddacc7-36f3-43ac-f501-d6b179cbd162"
      },
      "execution_count": 61,
      "outputs": [
        {
          "output_type": "execute_result",
          "data": {
            "text/plain": [
              "tensor([[0.1551, 0.2104, 0.2060, 0.1413, 0.1074, 0.1799],\n",
              "        [0.1500, 0.2262, 0.2199, 0.1311, 0.0906, 0.1821],\n",
              "        [0.1504, 0.2255, 0.2193, 0.1315, 0.0914, 0.1819],\n",
              "        [0.1591, 0.1994, 0.1963, 0.1477, 0.1206, 0.1769],\n",
              "        [0.1610, 0.1949, 0.1923, 0.1501, 0.1265, 0.1752],\n",
              "        [0.1557, 0.2091, 0.2049, 0.1419, 0.1089, 0.1794]])"
            ]
          },
          "metadata": {},
          "execution_count": 61
        }
      ]
    },
    {
      "cell_type": "code",
      "source": [
        "#context vector of x_2\n",
        "\n",
        "x_2_context = attention_weights[1] @ values\n",
        "x_2_context"
      ],
      "metadata": {
        "colab": {
          "base_uri": "https://localhost:8080/"
        },
        "id": "yGXFcGrwqyDv",
        "outputId": "36ddfc93-0712-4aa5-97a8-aa9462ef0ae0"
      },
      "execution_count": 63,
      "outputs": [
        {
          "output_type": "execute_result",
          "data": {
            "text/plain": [
              "tensor([0.3062, 0.8216])"
            ]
          },
          "metadata": {},
          "execution_count": 63
        }
      ]
    },
    {
      "cell_type": "code",
      "source": [
        "#context vectors for all tokens\n",
        "\n",
        "context_vectors =  attention_weights @ values\n",
        "context_vectors"
      ],
      "metadata": {
        "colab": {
          "base_uri": "https://localhost:8080/"
        },
        "id": "byYIPq9orBvA",
        "outputId": "393abde9-d27e-4c5e-eff7-1a958995f3ee"
      },
      "execution_count": 67,
      "outputs": [
        {
          "output_type": "execute_result",
          "data": {
            "text/plain": [
              "tensor([[0.2997, 0.8060],\n",
              "        [0.3062, 0.8216],\n",
              "        [0.3059, 0.8209],\n",
              "        [0.2949, 0.7945],\n",
              "        [0.2928, 0.7898],\n",
              "        [0.2991, 0.8047]])"
            ]
          },
          "metadata": {},
          "execution_count": 67
        }
      ]
    },
    {
      "cell_type": "code",
      "source": [
        "import torch.nn as nn\n",
        "\n",
        "class SelfAttention_v1(nn.Module):\n",
        "  def __init__(self,d_in,d_out):\n",
        "    super().__init__()\n",
        "    self.W_Q = nn.Parameter(torch.rand(d_in,d_out),requires_grad=True)\n",
        "    self.W_V = nn.Parameter(torch.rand(d_in,d_out),requires_grad=True)\n",
        "    self.W_K = nn.Parameter(torch.rand(d_in,d_out),requires_grad=True)\n",
        "  def forward(self,x):\n",
        "    keys = x @ self.W_K\n",
        "    values = x @ self.W_V\n",
        "    queries = x @ self.W_Q\n",
        "    attention_scores = queries @ keys.T\n",
        "    attention_weights = torch.softmax(attention_scores/keys.shape[-1]**0.5,dim=-1)\n",
        "    return attention_weights @ values\n"
      ],
      "metadata": {
        "id": "d45VAtTawEW-"
      },
      "execution_count": 78,
      "outputs": []
    },
    {
      "cell_type": "code",
      "source": [
        "torch.manual_seed(123)\n",
        "attention = SelfAttention_v1(inputs.shape[-1],2)\n",
        "attention.forward(inputs)"
      ],
      "metadata": {
        "colab": {
          "base_uri": "https://localhost:8080/"
        },
        "id": "9hB4W1t7wk15",
        "outputId": "6ef2da25-f86e-4244-af97-8f85ecc9f14e"
      },
      "execution_count": 79,
      "outputs": [
        {
          "output_type": "execute_result",
          "data": {
            "text/plain": [
              "tensor([[0.3510, 0.8813],\n",
              "        [0.3568, 0.8978],\n",
              "        [0.3565, 0.8971],\n",
              "        [0.3467, 0.8697],\n",
              "        [0.3449, 0.8650],\n",
              "        [0.3505, 0.8801]], grad_fn=<MmBackward0>)"
            ]
          },
          "metadata": {},
          "execution_count": 79
        }
      ]
    },
    {
      "cell_type": "code",
      "source": [
        "import torch.nn as nn\n",
        "\n",
        "class SelfAttention_v2(nn.Module):\n",
        "  def __init__(self,d_in,d_out,bias = False):\n",
        "    super().__init__()\n",
        "    self.W_Q = nn.Linear(d_in,d_out,bias=bias)\n",
        "    self.W_V = nn.Linear(d_in,d_out,bias=bias)\n",
        "    self.W_K = nn.Linear(d_in,d_out,bias=bias)\n",
        "  def forward(self,x):\n",
        "    keys = self.W_K(x)\n",
        "    values = self.W_V(x)\n",
        "    queries = self.W_Q(x)\n",
        "    attention_scores = queries @ keys.T\n",
        "    attention_weights = torch.softmax(attention_scores/keys.shape[-1]**0.5,dim=-1)\n",
        "    return attention_weights @ values\n"
      ],
      "metadata": {
        "id": "n0VjF7GFzTe_"
      },
      "execution_count": 84,
      "outputs": []
    },
    {
      "cell_type": "code",
      "source": [
        "attention = SelfAttention_v2(inputs.shape[-1],2)\n",
        "attention.forward(inputs)"
      ],
      "metadata": {
        "colab": {
          "base_uri": "https://localhost:8080/"
        },
        "id": "sFwPoXDk2V63",
        "outputId": "81993529-aa0e-4187-82d2-7999c44b1b95"
      },
      "execution_count": 85,
      "outputs": [
        {
          "output_type": "execute_result",
          "data": {
            "text/plain": [
              "tensor([[0.2673, 0.0036],\n",
              "        [0.2668, 0.0036],\n",
              "        [0.2668, 0.0036],\n",
              "        [0.2694, 0.0035],\n",
              "        [0.2691, 0.0036],\n",
              "        [0.2688, 0.0035]], grad_fn=<MmBackward0>)"
            ]
          },
          "metadata": {},
          "execution_count": 85
        }
      ]
    },
    {
      "cell_type": "code",
      "source": [],
      "metadata": {
        "id": "1Egk1wR62YbJ"
      },
      "execution_count": null,
      "outputs": []
    }
  ]
}
